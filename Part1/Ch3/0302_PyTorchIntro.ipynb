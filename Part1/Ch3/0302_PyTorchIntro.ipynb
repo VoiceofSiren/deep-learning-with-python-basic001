{
 "cells": [
  {
   "cell_type": "markdown",
   "id": "cc679dbc",
   "metadata": {},
   "source": [
    "<a href='https://honglab.ai'><p style=\"text-align:center;\"><img src='https://lh3.googleusercontent.com/lY3ySXooSmwsq5r-mRi7uiypbo0Vez6pmNoQxMFhl9fmZJkRHu5lO2vo7se_0YOzgmDyJif9fi4_z0o3ZFdwd8NVSWG6Ea80uWaf3pOHpR4GHGDV7kaFeuHR3yAjIJjDgfXMxsvw=w2400'  class=\"center\" width=\"100%\" height=\"100%\"/></p></a>\n",
    "\n",
    "<center><em>Content Copyright by HongLab, Inc.</em></center>"
   ]
  },
  {
   "cell_type": "markdown",
   "id": "09af1eac",
   "metadata": {},
   "source": [
    "### 파이토치로 훈련시키기\n",
    "\n",
    "주요 내용\n",
    "\n",
    "- 데이터셋 -> 모델 -> 훈련 -> 확인/사용\n",
    "\n",
    "- Numpy Array vs Pytorch Tensor\n",
    "\n",
    "- Forward / backward propagation\n",
    "\n",
    "- Chain rule\n",
    "\n",
    "- Tensor shape 출력해보기\n",
    "\n",
    "- [Autograd](https://pytorch.org/tutorials/beginner/basics/autogradqs_tutorial.html)\n",
    "\n",
    "가시화 도구\n",
    "\n",
    "- [TorchViz](https://graphviz.org/download/) 윈도우 기준 graphviz-12.2.1 (64-bit) EXE installer [sha256], 경로 설정 주의, dot -V로 확인\n",
    "\n",
    "- [Netron](https://github.com/lutzroeder/Netron)\n",
    "\n",
    "- [Tensorboard](https://www.tensorflow.org/tensorboard)\n",
    "\n",
    "파이썬 연습이 더 필요하다고 느끼신다면 [홍정모의 파이썬 프로그래밍 추월코스](https://www.honglab.ai/courses/python)"
   ]
  },
  {
   "cell_type": "code",
   "execution_count": 1,
   "id": "c0ea5c1d",
   "metadata": {},
   "outputs": [
    {
     "name": "stdout",
     "output_type": "stream",
     "text": [
      "False\n"
     ]
    }
   ],
   "source": [
    "import torch\n",
    "\n",
    "print(torch.cuda.is_available())\n",
    "\n",
    "# if torch.cuda.is_available():\n",
    "#    tensor = tensor.to(\"cuda\")"
   ]
  },
  {
   "cell_type": "code",
   "execution_count": 2,
   "id": "e0f29b3a",
   "metadata": {},
   "outputs": [],
   "source": [
    "import torch\n",
    "import torch.nn as nn\n",
    "import torch.optim as optim\n",
    "from torch.utils.data import Dataset, DataLoader\n",
    "import matplotlib.pyplot as plt\n",
    "import numpy as np\n",
    "\n",
    "import torchviz\n"
   ]
  },
  {
   "cell_type": "code",
   "execution_count": 3,
   "id": "2996482a",
   "metadata": {},
   "outputs": [],
   "source": [
    "# Define a custom Dataset class\n",
    "class RegressionDataset(Dataset):\n",
    "    def __init__(self, x_data, y_data):\n",
    "        self.x_data = x_data\n",
    "        self.y_data = y_data\n",
    "        self.n_samples = x_data.shape[0] # Number of samples\n",
    "\n",
    "    def __len__(self):\n",
    "        return self.n_samples\n",
    "\n",
    "    def __getitem__(self, index):\n",
    "        return self.x_data[index], self.y_data[index]"
   ]
  },
  {
   "cell_type": "code",
   "execution_count": 4,
   "id": "7d4b66ac",
   "metadata": {},
   "outputs": [],
   "source": [
    "x_numpy = np.array([-1.5, -0.8, 0.1, 0.9, 1.7], dtype=np.float32)\n",
    "y_numpy = np.array([0.3, -0.3, 0.5, 1.8, 1.5], dtype=np.float32)\n",
    "\n",
    "# Convert NumPy arrays to PyTorch tensors\n",
    "x_input_tensor = torch.from_numpy(x_numpy).unsqueeze(1) # Add a dimension for features (N, 1)\n",
    "y_target_tensor = torch.from_numpy(y_numpy).unsqueeze(1) # Add a dimension for features (N, 1)\n",
    "\n",
    "dataset = RegressionDataset(x_input_tensor, y_target_tensor)\n",
    "\n",
    "batch_size = len(dataset) # Use full batch size for the dataset\n",
    "dataloader = DataLoader(dataset=dataset, batch_size=batch_size, shuffle=False) # shuffle=False as order doesn't matter for full batch"
   ]
  },
  {
   "cell_type": "markdown",
   "id": "b3002c35",
   "metadata": {},
   "source": [
    "$$\\hat{y}_i = w \\cdot x_i + b$$\n",
    "$$\\mathcal{L}= \\frac{1}{n} \\sum^n_{i=1} (y_i - \\hat{y}_i)^2 = \\frac{1}{n} \\sum^n_{i=1}(y_i - wx_i - b)^2 $$\n",
    "\n",
    "$$  \\frac{\\partial \\mathcal{L}}{\\partial w} = \\sum^n_{i=1} \\left( \\frac{\\partial \\mathcal{L}}{\\partial \\hat{y}_i} \\cdot \\frac{\\partial \\hat{y}_i}{\\partial w} \\right) = \\sum^n_{i=1} \\left( \\frac{\\partial \\mathcal{L}}{\\partial \\hat{y}_i} \\cdot x_i \\right) $$\n",
    "\n",
    "$$  \\frac{\\partial \\mathcal{L}}{\\partial b} = \\sum^n_{i=1} \\left( \\frac{\\partial \\mathcal{L}}{\\partial \\hat{y}_i} \\cdot \\frac{\\partial \\hat{y}_i}{\\partial b} \\right) = \\sum^n_{i=1} \\left( \\frac{\\partial \\mathcal{L}}{\\partial \\hat{y}_i} \\cdot 1 \\right) $$"
   ]
  },
  {
   "cell_type": "code",
   "execution_count": 5,
   "id": "b60f0259",
   "metadata": {},
   "outputs": [],
   "source": [
    "# class SimpleModel(nn.Module):\n",
    "#     def __init__(self, initial_weight=-10.0, initial_bias=10.0):\n",
    "#         super().__init__()\n",
    "\n",
    "#         # Trainable parameters (weights)\n",
    "#         self.weight = nn.Parameter(torch.tensor([initial_weight], dtype=torch.float32))\n",
    "#         self.bias = nn.Parameter(torch.tensor([initial_bias], dtype=torch.float32))\n",
    "\n",
    "#     def forward(self, x):\n",
    "#         out = self.weight * x + self.bias\n",
    "#         return out\n",
    "\n",
    "class SimpleModel(nn.Module):\n",
    "    def __init__(self, initial_weight=-10.0, initial_bias=10.0):\n",
    "        super().__init__()\n",
    "\n",
    "        self.linear = nn.Linear(in_features=1, out_features=1, bias=True)\n",
    "\n",
    "        with torch.no_grad(): # Disable gradient calculation during initialization\n",
    "            self.linear.weight.fill_(initial_weight)\n",
    "            self.linear.bias.fill_(initial_bias)\n",
    "\n",
    "    def forward(self, x):\n",
    "        out = self.linear(x)\n",
    "        return out\n",
    "\n",
    "model = SimpleModel(initial_weight=-10.0, initial_bias=10.0)"
   ]
  },
  {
   "cell_type": "code",
   "execution_count": 6,
   "id": "57af5e31",
   "metadata": {},
   "outputs": [
    {
     "name": "stdout",
     "output_type": "stream",
     "text": [
      "Epoch 10: w = -0.0835, b = 1.8877, Loss = 3.0419\n",
      "Epoch 20: w = 0.5153, b = 0.8525, Loss = 0.2208\n",
      "Epoch 30: w = 0.5598, b = 0.7306, Loss = 0.1886\n",
      "Epoch 40: w = 0.5638, b = 0.7166, Loss = 0.1882\n",
      "Epoch 50: w = 0.5642, b = 0.7151, Loss = 0.1882\n"
     ]
    }
   ],
   "source": [
    "criterion = nn.MSELoss() # Mean Squared Error Loss\n",
    "\n",
    "# Pass the model's parameters (self.weight and self.bias) to the optimizer\n",
    "optimizer = optim.SGD(model.parameters(), lr=0.1) # 여기서는 Gradient Descent와 동일\n",
    "\n",
    "num_epochs = 50\n",
    "\n",
    "# --- Store Loss for Plotting ---\n",
    "losses = []\n",
    "\n",
    "# --- Training Loop ---\n",
    "for epoch in range(num_epochs):\n",
    "    # Iterate over the dataloader. Since batch_size = len(dataset), this loop runs only once per epoch.\n",
    "    for x_inputs, y_targets in dataloader:\n",
    "        # inputs and targets are the tensors yielded by the dataloader (our entire dataset in this case)\n",
    "        # inputs shape: (N, 1), targets shape: (N, 1)\n",
    "\n",
    "        # print(x_inputs.shape, y_targets.shape) # Check the shape of inputs and targets\n",
    "\n",
    "        # Forward pass: compute predicted y by passing inputs to the model\n",
    "        y_pred = model(x_inputs) # y_pred shape: (N, 1)\n",
    "\n",
    "        # Compute loss\n",
    "        loss = criterion(y_pred, y_targets) # loss is a scalar tensor\n",
    "\n",
    "        # Store loss for plotting\n",
    "        losses.append(loss.item()) # .item() gets the scalar value of the loss tensor\n",
    "\n",
    "        # Zero gradients, perform a backward pass, and update the parameters\n",
    "        optimizer.zero_grad() # Clear previous gradients of model.parameters()\n",
    "        \n",
    "        loss.backward()       # Compute gradients of the loss with respect to all parameters that require grad (self.weight, self.bias)\n",
    "\n",
    "        optimizer.step()      # Perform a single optimization step (update self.weight and self.bias)\n",
    "\n",
    "        if epoch == 0:\n",
    "             # Visualizes the graph starting from the 'loss' tensor.\n",
    "             # 'params' helps in labeling the nodes with parameter names.\n",
    "             graph = torchviz.make_dot(loss, params=dict(model.named_parameters()))\n",
    "             graph.render(\"autograd_graph\", view=False) # Renders and optionally opens the graph file\n",
    "\n",
    "    # Print loss every 10 epochs (or every epoch for detailed view)\n",
    "    if (epoch + 1) % 10 == 0:\n",
    "        # Access weights and bias directly from the model instance\n",
    "        #print(f\"Epoch {epoch + 1}: w = {model.weight.item():.4f}, b = {model.bias.item():.4f}, Loss = {loss.item():.4f}\")\n",
    "        print(f\"Epoch {epoch + 1}: w = {model.linear.weight.item():.4f}, b = {model.linear.bias.item():.4f}, Loss = {loss.item():.4f}\")\n",
    "        \n"
   ]
  },
  {
   "cell_type": "code",
   "execution_count": 7,
   "id": "977b7449",
   "metadata": {},
   "outputs": [
    {
     "data": {
      "image/png": "[encoded data removed]",
      "text/plain": [
       "<Figure size 1200x600 with 2 Axes>"
      ]
     },
     "metadata": {},
     "output_type": "display_data"
    }
   ],
   "source": [
    "# --- Plot Loss Graph ---\n",
    "plt.figure(figsize=(12, 6))\n",
    "\n",
    "# Plot 1: Loss graph over epochs\n",
    "plt.subplot(1, 2, 1)\n",
    "plt.plot(range(num_epochs), losses, color='green', label='Loss')\n",
    "plt.title('Loss vs Epochs')\n",
    "plt.xlabel('Epochs')\n",
    "plt.ylabel('Loss (MSE)')\n",
    "plt.grid(True)\n",
    "\n",
    "# --- Plot Line Graph ---\n",
    "# Plot 2: Data points and fitted line\n",
    "plt.subplot(1, 2, 2)\n",
    "plt.scatter(x_input_tensor.numpy().squeeze(), y_target_tensor.numpy().squeeze(), color='blue', label='Data') # Use the original tensors (converted to numpy for plotting)\n",
    "x_line = torch.linspace(min(x_input_tensor).item(), max(x_input_tensor).item(), 100).unsqueeze(1) # Shape (100, 1)\n",
    "y_line = model(x_line).detach().numpy() # Get predictions from the trained model, detach from graph, and convert to NumPy. y_line shape: (100, 1)\n",
    "plt.plot(x_line.numpy().squeeze(), y_line.squeeze(), color='red', label='Fitted Line') # Convert tensors back to NumPy for plotting and remove singleton dimensions\n",
    "plt.title(\"Linear Fit using Gradient Descent (PyTorch Manual Parameters)\")\n",
    "plt.xlabel(\"x\")\n",
    "plt.ylabel(\"y\")\n",
    "plt.legend()\n",
    "plt.grid(True)\n",
    "\n",
    "plt.tight_layout()\n",
    "plt.show()"
   ]
  },
  {
   "cell_type": "markdown",
   "id": "f9d0075b",
   "metadata": {},
   "source": [
    "훈련이 끝난 모델 파일 쓰기/읽기"
   ]
  },
  {
   "cell_type": "code",
   "execution_count": 8,
   "id": "6334bc7a",
   "metadata": {},
   "outputs": [
    {
     "data": {
      "text/plain": [
       "<All keys matched successfully>"
      ]
     },
     "execution_count": 8,
     "metadata": {},
     "output_type": "execute_result"
    }
   ],
   "source": [
    "torch.save(model.state_dict(), \"my_model.pth\")\n",
    "\n",
    "model.load_state_dict(torch.load(\"my_model.pth\"))"
   ]
  },
  {
   "cell_type": "markdown",
   "id": "90813533",
   "metadata": {},
   "source": [
    "훈련이 끝난 모델로 테스트"
   ]
  },
  {
   "cell_type": "code",
   "execution_count": 9,
   "id": "3eb9611a",
   "metadata": {},
   "outputs": [
    {
     "name": "stdout",
     "output_type": "stream",
     "text": [
      "Input [[0.5]\n",
      " [1. ]]\n",
      "Output [[0.9971621]\n",
      " [1.279263 ]]\n"
     ]
    }
   ],
   "source": [
    "model.eval() # model.train() is default, but we set it to eval() for inference\n",
    "\n",
    "with torch.no_grad():\n",
    "    test_input = torch.tensor([0.5, 1.0], dtype=torch.float32).unsqueeze(1)\n",
    "    test_output = model(test_input)\n",
    "    print(\"Input\", test_input.numpy())\n",
    "    print(\"Output\", test_output.numpy())"
   ]
  },
  {
   "cell_type": "markdown",
   "id": "2a657d49",
   "metadata": {},
   "source": [
    "### 이어지는 내용들\n",
    "\n",
    "- 뉴럴네트워크 만들기\n",
    "- 더 큰 데이터셋 - Train/Test/Val, SGD batch training\n",
    "- 분류(Classification) 예제"
   ]
  }
 ],
 "metadata": {
  "kernelspec": {
   "display_name": "py312cpu",
   "language": "python",
   "name": "python3"
  },
  "language_info": {
   "codemirror_mode": {
    "name": "ipython",
    "version": 3
   },
   "file_extension": ".py",
   "mimetype": "text/x-python",
   "name": "python",
   "nbconvert_exporter": "python",
   "pygments_lexer": "ipython3",
   "version": "3.12.9"
  }
 },
 "nbformat": 4,
 "nbformat_minor": 5
}
