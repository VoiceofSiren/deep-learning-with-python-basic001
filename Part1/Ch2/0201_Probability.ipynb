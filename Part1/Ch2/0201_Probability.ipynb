{
 "cells": [
  {
   "cell_type": "markdown",
   "id": "c4c622c5",
   "metadata": {},
   "source": [
    "<a href='https://honglab.ai'><p style=\"text-align:center;\"><img src='https://lh3.googleusercontent.com/lY3ySXooSmwsq5r-mRi7uiypbo0Vez6pmNoQxMFhl9fmZJkRHu5lO2vo7se_0YOzgmDyJif9fi4_z0o3ZFdwd8NVSWG6Ea80uWaf3pOHpR4GHGDV7kaFeuHR3yAjIJjDgfXMxsvw=w2400'  class=\"center\" width=\"100%\" height=\"100%\"/></p></a>\n",
    "\n",
    "<center><em>Content Copyright by HongLab, Inc.</em></center>"
   ]
  },
  {
   "cell_type": "markdown",
   "id": "93c2a6f0",
   "metadata": {},
   "source": [
    "# 확률(Probability)"
   ]
  },
  {
   "cell_type": "markdown",
   "id": "9eab7818",
   "metadata": {},
   "source": [
    "### 기본 개념\n",
    "\n",
    "불확실한 정도를 정량화하고 표현하는 수학적인 도구\n",
    "\n",
    "$$\n",
    "확률 = \\frac{\\text{어떤 사건이 일어날 수 있는 경우의 수}}{\\text{전체 경우의 수}}\n",
    "$$\n"
   ]
  },
  {
   "cell_type": "markdown",
   "id": "5e2d11b0",
   "metadata": {},
   "source": [
    "### 확률 변수(Random Variable)\n",
    "\n",
    "주사위를 한 번 던졌을 때 나올 수 있는 값을 확률 변수 $X$라고 할 때 \n",
    "\n",
    "$$\n",
    "P(X = 1) = P(X = 2) = ... = P(X = 6) = \\frac{1}{6}\n",
    "$$\n",
    "\n",
    "$$\n",
    "P(X = 1 \\text{ or } X = 2) = \\frac{1}{6} + \\frac{1}{6}\n",
    "$$\n",
    "\n",
    "주사위를 한 번 더 던졌을 때의 확률 변수를 $Y$라고 할 때\n",
    "\n",
    "$$\n",
    "P(X = 1 \\text{ and }Y = 2) = \\frac{1}{6} \\cdot \\frac{1}{6}\n",
    "$$\n",
    "\n",
    "$$\n",
    "P(X = 1 \\text{ or } Y = 2) = P(X = 1) + P(Y = 2) - P(X=1 \\text{ and } Y=2) = \\frac{1}{6} + \\frac{1}{6} - \\frac{1}{36}\n",
    "$$"
   ]
  },
  {
   "cell_type": "markdown",
   "id": "870dab6c",
   "metadata": {},
   "source": [
    "\n",
    "\n",
    "### 통계로부터 확률을 계산\n",
    "\n",
    "|                | 김밥       | 샌드위치    | Total  |\n",
    "|----------------|----------------|----------------|--------|\n",
    "| **사과**      | 15             | 5              | 20     |\n",
    "| **오렌지**   | 25             | 55             | 80     |\n",
    "| **Total**      | 40             | 60             | 100    |\n",
    "\n",
    "100명 중에서 한 명을 임의로 선택했을 때\n",
    "\n",
    "- 김밥을 가져왔을 확률 $P(김밥) = 40/100$\n",
    "- 샌드위치를 가져왔을 확률 $P(샌드위치) = 60/100$\n",
    "- 사과를 가져왔을 확률 $P(사과) = 20/100$\n",
    "- 오렌지를 가져왔을 확률 $P(오렌지) = 80/100$\n",
    "- 김밥 또는 샌드위치를 가져왔을 확률 $P(\\text{김밥 or 샌드위치}) = 100/100$\n",
    "- 김밥과 샌드위치를 가져왔을 확률 $P(\\text{김밥 and 샌드위치}) = 0$\n",
    "- 김밥과 사과를 가져왔을 확률 $P(\\text{김밥 and 사과}) = 15 / 100$\n",
    "- 김밥과 오렌지를 가져왔을 확률 $P(\\text{김밥 and 오렌지}) = 25 / 100$\n",
    "\n",
    "김밥을 가져온 사람 중에서 한 명을 임의로 선택했을 때 (조건적 확률)\n",
    "\n",
    "- 김밥을 가져왔을 확률 $P(\\text{김밥 | 김밥}) = 1$\n",
    "- 사과를 가져왔을 확률 $P(\\text{사과 | 김밥}) = 15 / 40$\n",
    "- 오렌지를 가져왔을 확률 $P(\\text{오렌지 | 김밥}) = 25 / 40$\n",
    "- 사과 또는 오렌지를 가져왔을 확률 $P(\\text{사과 or 오렌지 | 김밥}) = P(\\text{사과 | 김밥}) + P(\\text{오렌지 | 김밥}) = 1$\n",
    "\n",
    "생각해볼 점: 이 통계로부터 **일반적으로** 사람들이 김밥보다 샌드위치를 선택할 확률이 높다고 결론지을 수 있는가?"
   ]
  },
  {
   "cell_type": "markdown",
   "id": "c460312a",
   "metadata": {},
   "source": [
    "### LLM 적용 예시\n",
    "\n",
    "$$\n",
    "\\text{LLM이 사과라고 대답할 확률} = P(\\text{LLM이 대답할 다음 단어가 사과일 경우 | 사용자의 질문과 컨텍스트})\n",
    "$$\n",
    "\n",
    "[GPT2 논문 예시](https://cdn.openai.com/better-language-models/language_models_are_unsupervised_multitask_learners.pdf)\n",
    "\n",
    "P(\"나는\" \"사과를\" \"좋아해\" | 질문) <- 어떤 질문에 대해서 (\"나는\", \"사과를\", \"좋아해\")라고 세 단어 순서로 대답할 확률\n",
    "\n",
    "= P(\"나는\" | 질문) P(\"사과를\" | 질문, \"나는\") P(\"좋아해\" | 질문, \"나는\", \"사과를\") <- 각 단어를 대답할 확률들의 곱\n",
    "\n",
    "[안내] 논문의 확률식은 질문 없이 LLM이 스스로 특정 단어들을 연이어 출력할 확률을 의미합니다. 위의 예시는 이해를 돕기 위한 것이며 논문의 식과 약간 차이가 있습니다. 여기서는 LLM이 하는 일을 확률로 표현할 수 있다는 것만 봐두시면 됩니다.\n"
   ]
  },
  {
   "cell_type": "markdown",
   "id": "1978f81f",
   "metadata": {},
   "source": [
    "### 기대값(Expected Value)\n",
    "\n",
    "기대값은 \"내가 기대할 수 있는 값\"을 확률적으로 계산한 것입니다. 예를 들어서 주사위를 던졌을 때 확률을 고려해서 기대할 수 있는 값은 아래와 같이 계산할 수 있습니다. 주사위를 여러번 던졌을 때 평균적으로 기대할 수 있는 값으로 생각할 수도 있습니다.\n",
    "\n",
    "$E(X) = 1 \\times P(X=1) + 2 \\times P(X=2) + ... + 6 \\times P(X=6)$ = 3.5\n",
    "\n",
    "여기서 주의해야할 점은 주사위를 던졌을 때 3.5가 나오는 일은 없다는 것입니다. 복권의 당첨확률이 0.1%, 당첨금이 1억이라면 기대값은 10000 * 0.001 + 0 * 0.999 = 10만원이지만 실제로는 당첨되어서 1억을 받거나 아니면 복권 구입비만 손해보거나 둘 중 하나입니다."
   ]
  },
  {
   "cell_type": "code",
   "execution_count": 1,
   "id": "677507c0",
   "metadata": {},
   "outputs": [
    {
     "name": "stdout",
     "output_type": "stream",
     "text": [
      "Empirical probabilities:\n",
      "P(X = 2) = 0.300\n",
      "P(X = 3) = 0.300\n",
      "P(X = 4) = 0.200\n",
      "P(X = 5) = 0.100\n",
      "P(X = 6) = 0.100\n",
      "\n",
      "Expected value E(X) = 3.400\n"
     ]
    }
   ],
   "source": [
    "import numpy as np\n",
    "\n",
    "np.random.seed(123) # 난수를 생성할 때 씨앗으로 사용할 값\n",
    "# 주의: 컴퓨터가 만들어주는 난수는 자연적인 난수와 다릅니다. (pseudorandom)\n",
    "\n",
    "rolls = np.random.randint(1, 7, size=10)  # 1이상 7 미만, size를 늘릴 수록 이론과 비슷해짐\n",
    "\n",
    "outcomes, counts = np.unique(rolls, return_counts=True)\n",
    "# print(outcomes, counts)\n",
    "\n",
    "probabilities = counts / len(rolls) # 실제 발생한 경우 / 전체 경우\n",
    "\n",
    "print(\"Empirical probabilities:\")\n",
    "for outcome, prob in zip(outcomes, probabilities):\n",
    "    print(f\"P(X = {outcome}) = {prob:.3f}\")\n",
    "\n",
    "expected_value = np.mean(rolls)\n",
    "print(f\"\\nExpected value E(X) = {expected_value:.3f}\")"
   ]
  }
 ],
 "metadata": {
  "kernelspec": {
   "display_name": "py312cpu",
   "language": "python",
   "name": "python3"
  },
  "language_info": {
   "codemirror_mode": {
    "name": "ipython",
    "version": 3
   },
   "file_extension": ".py",
   "mimetype": "text/x-python",
   "name": "python",
   "nbconvert_exporter": "python",
   "pygments_lexer": "ipython3",
   "version": "3.12.9"
  }
 },
 "nbformat": 4,
 "nbformat_minor": 5
}
