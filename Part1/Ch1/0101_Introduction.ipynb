{
 "cells": [
  {
   "cell_type": "markdown",
   "id": "7b6c9a97",
   "metadata": {},
   "source": [
    "<a href='https://honglab.ai'><p style=\"text-align:center;\"><img src='https://lh3.googleusercontent.com/lY3ySXooSmwsq5r-mRi7uiypbo0Vez6pmNoQxMFhl9fmZJkRHu5lO2vo7se_0YOzgmDyJif9fi4_z0o3ZFdwd8NVSWG6Ea80uWaf3pOHpR4GHGDV7kaFeuHR3yAjIJjDgfXMxsvw=w2400'  class=\"center\" width=\"100%\" height=\"100%\"/></p></a>\n",
    "\n",
    "<center><em>Content Copyright by HongLab, Inc.</em></center>"
   ]
  },
  {
   "cell_type": "markdown",
   "id": "ec03fa6a",
   "metadata": {},
   "source": [
    "# 강의 안내"
   ]
  },
  {
   "cell_type": "markdown",
   "id": "539ba5da",
   "metadata": {},
   "source": [
    "<div style=\"text-align: center;\">\n",
    "    <img src=\"https://github.com/HongLabInc/HongLabAI/blob/main/Part1/Ch1/images/Slide2.JPG?raw=true\" alt=\"Image Description\" width=\"600\">\n",
    "</div>"
   ]
  },
  {
   "cell_type": "markdown",
   "id": "107069bc",
   "metadata": {},
   "source": [
    "### 누구를 위한 강의인가?\n",
    "\n",
    "- 테크 산업의 트랜드는 **AI를 중심**으로 흘러가고 있습니다.\n",
    "- **AI시대**에 소프트웨어 커리어를 원하시는 분들을 위해 준비되었습니다.\n",
    "- **AI가 가져간 부분**에 대해서는 미련을 버리고 새로운 기회를 빠르게 포착하는 것이 포인트입니다.\n",
    "- 기존 실무자: AI는 일생일대의 기회다🚀 AI의 본질을 꿰뚫어보며 한 차원 **업그레이드**\n",
    "- 학생/취준생: AI는 나의 사이드킥! 기초를 튼튼히 하면서 **새로운 영역**으로 빠르게 진출"
   ]
  },
  {
   "cell_type": "markdown",
   "id": "0dc5482e",
   "metadata": {},
   "source": [
    "<div style=\"text-align: center;\">\n",
    "    <img src=\"https://raw.githubusercontent.com/HongLabInc/HongLabAI/main/Part1/Ch1/images/Slide3.JPG\" alt=\"Image Description\" width=\"600\"\n",
    "         style=\"border: 2px solid lightgray; border-radius: 5px; padding: 5px;\">\n",
    "</div>"
   ]
  },
  {
   "cell_type": "markdown",
   "id": "833a7c0d",
   "metadata": {},
   "source": [
    "### 홍랩 AI 시리즈의 범위\n",
    "\n",
    "- 기초를 빠르게 다지고 응용 분야로 뻗어나가는 로드맵을 계획하고 있습니다.\n",
    "- 응용 분야는 기술 트랜드와 수요에 맞춰 유연하게 대응할 예정입니다.\n",
    "- [참고] MIT 6.S191 [Introduction to Deep Learning](https://introtodeeplearning.com/)\n",
    "\n",
    "<div style=\"text-align: center;\">\n",
    "    <img src=\"https://raw.githubusercontent.com/HongLabInc/HongLabAI/refs/heads/main/Part1/Ch1/images/Slide4.JPG\" alt=\"Image Description\" width=\"600\"\n",
    "         style=\"border: 2px solid lightgray; border-radius: 5px; padding: 5px;\">\n",
    "</div>"
   ]
  },
  {
   "cell_type": "markdown",
   "id": "bca8334c",
   "metadata": {},
   "source": [
    "### 강의의 성격\n",
    "\n",
    "- 차별화된 AI 엔지니어를 위한 넓이와 깊이의 균형\n",
    "- 실용적인 내용들 위주로 간결하고 빠르게 진행 (예: ML vs DL)\n",
    "- 학습 부담 최소화 + 더 깊이 공부하실 분들을 위한 안내"
   ]
  },
  {
   "cell_type": "markdown",
   "id": "00713685",
   "metadata": {},
   "source": [
    "### 사전 지식\n",
    "\n",
    "- 파이썬 사용법: [파이썬 추월코스](https://www.honglab.ai/courses/python) 챕터5에 상응하는 프로그래밍 연습\n",
    "- 수학: 여기서 개념 위주로 빠르게 정리해 드립니다.\n",
    "- 자료구조/알고리듬 (프로그래밍 능력 관점에서 권장)"
   ]
  },
  {
   "cell_type": "markdown",
   "id": "f3c89ad3",
   "metadata": {},
   "source": [
    "### 공부 방법\n",
    "\n",
    "- 파트1은 가볍게 훑어보는 느낌\n",
    "- AI챗봇(LLM)으로 만들어진 코드들은 통과\n",
    "- 핵심 개념과 관련된 내용들은 강의 노트로 여러가지 실험/실습 권장\n",
    "- 파트1은 CPU로도 충분합니다."
   ]
  },
  {
   "cell_type": "markdown",
   "id": "28999abe",
   "metadata": {},
   "source": [
    "### 파트1의 학습 목표\n",
    "\n",
    "1. AI 공부를 빠르게 해나갈 수 있는 준비 과정\n",
    "1. 데이터로부터 배운다는 것이 어떤 의미인지 직관적으로 이해\n",
    "1. 현대 AI의 핵심인 뉴럴네트워크의 성질을 이해\n",
    "\n",
    "<div style=\"text-align: center;\">\n",
    "    <img src=\"https://github.com/HongLabInc/HongLabAI/blob/main/Part1/Ch1/images/Slide6.JPG?raw=true\" alt=\"Image Description\" width=\"600\"\n",
    "         style=\"border: 2px solid lightgray; border-radius: 5px; padding: 5px;\">\n",
    "</div>"
   ]
  },
  {
   "cell_type": "markdown",
   "id": "7388b4a9",
   "metadata": {},
   "source": [
    "### [홍랩](https://honglab.ai)의 미션\n",
    "\n",
    "- 여러분들의 성공을 기원합니다 (x) → 적극적으로 도와드리겠습니다 (o)\n",
    "- 개인 컨설팅 프로그램은 별도 공지하겠습니다. 감사합니다.\n",
    "\n",
    "<div style=\"text-align: center;\">\n",
    "    <img src=\"https://github.com/HongLabInc/HongLabAI/blob/main/Part1/Ch1/images/Slide7.JPG?raw=true\" alt=\"Image Description\" width=\"600\"\n",
    "         style=\"border: 2px solid lightgray; border-radius: 5px; padding: 5px;\">\n",
    "</div>\n"
   ]
  }
 ],
 "metadata": {
  "kernelspec": {
   "display_name": "py312cpu",
   "language": "python",
   "name": "python3"
  },
  "language_info": {
   "codemirror_mode": {
    "name": "ipython",
    "version": 3
   },
   "file_extension": ".py",
   "mimetype": "text/x-python",
   "name": "python",
   "nbconvert_exporter": "python",
   "pygments_lexer": "ipython3",
   "version": "3.12.9"
  }
 },
 "nbformat": 4,
 "nbformat_minor": 5
}
